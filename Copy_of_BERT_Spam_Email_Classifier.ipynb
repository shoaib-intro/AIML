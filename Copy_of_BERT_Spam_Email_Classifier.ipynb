{
  "nbformat": 4,
  "nbformat_minor": 0,
  "metadata": {
    "colab": {
      "name": "Copy of BERT Spam Email Classifier.ipynb",
      "provenance": [],
      "collapsed_sections": [],
      "authorship_tag": "ABX9TyMGAa+TWTAsPlvMYYPSiIzH",
      "include_colab_link": true
    },
    "kernelspec": {
      "name": "python3",
      "display_name": "Python 3"
    },
    "language_info": {
      "name": "python"
    }
  },
  "cells": [
    {
      "cell_type": "markdown",
      "metadata": {
        "id": "view-in-github",
        "colab_type": "text"
      },
      "source": [
        "<a href=\"https://colab.research.google.com/github/shoaib-intro/AIML/blob/main/Copy_of_BERT_Spam_Email_Classifier.ipynb\" target=\"_parent\"><img src=\"https://colab.research.google.com/assets/colab-badge.svg\" alt=\"Open In Colab\"/></a>"
      ]
    },
    {
      "cell_type": "markdown",
      "source": [
        "# BERT\n",
        "\n",
        "Find tensor hub link here [here](https://www.tensorflow.org/hub)\n"
      ],
      "metadata": {
        "id": "0Z3ZiWSuuXXb"
      }
    },
    {
      "cell_type": "code",
      "execution_count": null,
      "metadata": {
        "id": "PByu7xBvuWJc"
      },
      "outputs": [],
      "source": [
        "import tensorflow_hub as hub\n",
        "\n",
        "#!pip install tensorflow-text\n",
        "import tensorflow_text as txt"
      ]
    },
    {
      "cell_type": "code",
      "source": [
        "preprocess_url= 'https://tfhub.dev/tensorflow/bert_en_uncased_preprocess/3'\n",
        "encoder_url = 'https://tfhub.dev/tensorflow/bert_en_uncased_L-12_H-768_A-12/4'"
      ],
      "metadata": {
        "id": "MV06uu-xvCqy"
      },
      "execution_count": null,
      "outputs": []
    },
    {
      "cell_type": "code",
      "source": [
        "# create hub for text preprocess\n",
        "bert_preprocess_model = hub.KerasLayer(preprocess_url) # function pointer for text preprocessing"
      ],
      "metadata": {
        "id": "gMhOROjJvxIK"
      },
      "execution_count": null,
      "outputs": []
    },
    {
      "cell_type": "code",
      "source": [
        "# lets create movie classfification model\n",
        "\n",
        "test_text = ['login failed', 'trying to restart container failed']\n",
        "text_preprocessed = bert_preprocess_model(test_text) # supplly that text to bert preprocess function pointer\n",
        "text_preprocessed.keys()"
      ],
      "metadata": {
        "colab": {
          "base_uri": "https://localhost:8080/"
        },
        "id": "xQvS76pVvxFX",
        "outputId": "e9e827d3-26e2-40c3-90ce-832b6b17fb9a"
      },
      "execution_count": null,
      "outputs": [
        {
          "output_type": "execute_result",
          "data": {
            "text/plain": [
              "dict_keys(['input_word_ids', 'input_type_ids', 'input_mask'])"
            ]
          },
          "metadata": {},
          "execution_count": 6
        }
      ]
    },
    {
      "cell_type": "markdown",
      "source": [
        "####Text initially surrounded by  [CLS] this is a good movie [SEP]\n",
        "- word ids -> stores words id from oov(vocab)\n",
        "- input mask -> stores 1 if values exits to this sentnce\n",
        "- input type ids -> stores ids of sentences if they contains multiple sentences into one\n"
      ],
      "metadata": {
        "id": "8a9B19m7yYTr"
      }
    },
    {
      "cell_type": "code",
      "source": [
        "#text_preprocessed['input_mask']"
      ],
      "metadata": {
        "id": "stRCeZ3xxmXp"
      },
      "execution_count": null,
      "outputs": []
    },
    {
      "cell_type": "code",
      "source": [
        "#text_preprocessed['input_type_ids']"
      ],
      "metadata": {
        "id": "2-vLLMARxt5o"
      },
      "execution_count": null,
      "outputs": []
    },
    {
      "cell_type": "code",
      "source": [
        "text_preprocessed['input_word_ids']"
      ],
      "metadata": {
        "id": "Pod4ZMCjx7yY",
        "outputId": "1fed5eaf-3584-46ed-b425-07a1bf608359",
        "colab": {
          "base_uri": "https://localhost:8080/"
        }
      },
      "execution_count": null,
      "outputs": [
        {
          "output_type": "execute_result",
          "data": {
            "text/plain": [
              "<tf.Tensor: shape=(2, 128), dtype=int32, numpy=\n",
              "array([[  101,  8833,  2378,  3478,   102,     0,     0,     0,     0,\n",
              "            0,     0,     0,     0,     0,     0,     0,     0,     0,\n",
              "            0,     0,     0,     0,     0,     0,     0,     0,     0,\n",
              "            0,     0,     0,     0,     0,     0,     0,     0,     0,\n",
              "            0,     0,     0,     0,     0,     0,     0,     0,     0,\n",
              "            0,     0,     0,     0,     0,     0,     0,     0,     0,\n",
              "            0,     0,     0,     0,     0,     0,     0,     0,     0,\n",
              "            0,     0,     0,     0,     0,     0,     0,     0,     0,\n",
              "            0,     0,     0,     0,     0,     0,     0,     0,     0,\n",
              "            0,     0,     0,     0,     0,     0,     0,     0,     0,\n",
              "            0,     0,     0,     0,     0,     0,     0,     0,     0,\n",
              "            0,     0,     0,     0,     0,     0,     0,     0,     0,\n",
              "            0,     0,     0,     0,     0,     0,     0,     0,     0,\n",
              "            0,     0,     0,     0,     0,     0,     0,     0,     0,\n",
              "            0,     0],\n",
              "       [  101,  2667,  2000, 23818, 11661,  3478,   102,     0,     0,\n",
              "            0,     0,     0,     0,     0,     0,     0,     0,     0,\n",
              "            0,     0,     0,     0,     0,     0,     0,     0,     0,\n",
              "            0,     0,     0,     0,     0,     0,     0,     0,     0,\n",
              "            0,     0,     0,     0,     0,     0,     0,     0,     0,\n",
              "            0,     0,     0,     0,     0,     0,     0,     0,     0,\n",
              "            0,     0,     0,     0,     0,     0,     0,     0,     0,\n",
              "            0,     0,     0,     0,     0,     0,     0,     0,     0,\n",
              "            0,     0,     0,     0,     0,     0,     0,     0,     0,\n",
              "            0,     0,     0,     0,     0,     0,     0,     0,     0,\n",
              "            0,     0,     0,     0,     0,     0,     0,     0,     0,\n",
              "            0,     0,     0,     0,     0,     0,     0,     0,     0,\n",
              "            0,     0,     0,     0,     0,     0,     0,     0,     0,\n",
              "            0,     0,     0,     0,     0,     0,     0,     0,     0,\n",
              "            0,     0]], dtype=int32)>"
            ]
          },
          "metadata": {},
          "execution_count": 11
        }
      ]
    },
    {
      "cell_type": "markdown",
      "source": [
        "\n",
        "\n",
        "> ### Input type keys are not useful in this case so lets see how it stores multiple sentences ids whenver it has multiple sentences.\n",
        "\n"
      ],
      "metadata": {
        "id": "TpH5B5J3zPk2"
      }
    },
    {
      "cell_type": "code",
      "source": [
        "#test_text = ['I do not like this movie.', 'dfk  however this movie is fantastic', 'i love python, its interesting']\n",
        "#text_preprocessed = bert_preprocess_model(test_text)\n",
        "#text_preprocessed"
      ],
      "metadata": {
        "id": "bIfo5ZNKzO8E"
      },
      "execution_count": null,
      "outputs": []
    },
    {
      "cell_type": "code",
      "source": [
        "bert_model = hub.KerasLayer(encoder_url)\n",
        "bert_result = bert_model(text_preprocessed)  # fucntion pointer for bert_model\n",
        "bert_result.keys()"
      ],
      "metadata": {
        "colab": {
          "base_uri": "https://localhost:8080/"
        },
        "id": "9qYjm47j1MJM",
        "outputId": "a9321a29-d89c-457e-fc7e-5e58b23bc3b7"
      },
      "execution_count": null,
      "outputs": [
        {
          "output_type": "execute_result",
          "data": {
            "text/plain": [
              "dict_keys(['encoder_outputs', 'sequence_output', 'pooled_output', 'default'])"
            ]
          },
          "metadata": {},
          "execution_count": 19
        }
      ]
    },
    {
      "cell_type": "code",
      "source": [
        "len(bert_result['encoder_outputs']) "
      ],
      "metadata": {
        "colab": {
          "base_uri": "https://localhost:8080/"
        },
        "id": "YO_tKPYb2FYV",
        "outputId": "4c4528e2-6520-48e4-9d07-10c85320225c"
      },
      "execution_count": null,
      "outputs": [
        {
          "output_type": "execute_result",
          "data": {
            "text/plain": [
              "12"
            ]
          },
          "metadata": {},
          "execution_count": 20
        }
      ]
    },
    {
      "cell_type": "markdown",
      "source": [
        "Last output of BERT encoder model is equal to sequences_output which is final putput of model from 12(we used BERT model with 12 different encoded layers) different layers."
      ],
      "metadata": {
        "id": "mEO8Pnxc5Zfy"
      }
    },
    {
      "cell_type": "code",
      "source": [
        "bert_result['encoder_outputs'][-1] == bert_result['sequence_output']"
      ],
      "metadata": {
        "colab": {
          "base_uri": "https://localhost:8080/"
        },
        "id": "dUVD689F5ZYa",
        "outputId": "3e447352-0d66-4f90-cf48-c9ef756ec1b9"
      },
      "execution_count": null,
      "outputs": [
        {
          "output_type": "execute_result",
          "data": {
            "text/plain": [
              "<tf.Tensor: shape=(2, 128, 768), dtype=bool, numpy=\n",
              "array([[[ True,  True,  True, ...,  True,  True,  True],\n",
              "        [ True,  True,  True, ...,  True,  True,  True],\n",
              "        [ True,  True,  True, ...,  True,  True,  True],\n",
              "        ...,\n",
              "        [ True,  True,  True, ...,  True,  True,  True],\n",
              "        [ True,  True,  True, ...,  True,  True,  True],\n",
              "        [ True,  True,  True, ...,  True,  True,  True]],\n",
              "\n",
              "       [[ True,  True,  True, ...,  True,  True,  True],\n",
              "        [ True,  True,  True, ...,  True,  True,  True],\n",
              "        [ True,  True,  True, ...,  True,  True,  True],\n",
              "        ...,\n",
              "        [ True,  True,  True, ...,  True,  True,  True],\n",
              "        [ True,  True,  True, ...,  True,  True,  True],\n",
              "        [ True,  True,  True, ...,  True,  True,  True]]])>"
            ]
          },
          "metadata": {},
          "execution_count": 28
        }
      ]
    },
    {
      "cell_type": "markdown",
      "source": [
        "#### Let's generate model from this given model to bring into feesing for neural network. The encoder's outputs are the **pooled_output** to represents each input sequence as a whole, and the **sequence_output** to represent each input token in context. Either of those can be used as input to further model building.\n",
        "\n",
        "To print pooled_outputs for inspection, the following code can be used:"
      ],
      "metadata": {
        "id": "xDVQVwka8EP0"
      }
    },
    {
      "cell_type": "code",
      "source": [
        "import tensorflow as tf\n",
        "text_input = tf.keras.layers.Input(shape=(), dtype=tf.string)\n",
        "preprocessor = hub.KerasLayer(\"https://tfhub.dev/tensorflow/bert_en_uncased_preprocess/3\")\n",
        "encoder_inputs = preprocessor(text_input)\n",
        "encoder = hub.KerasLayer(\"https://tfhub.dev/tensorflow/bert_en_uncased_L-12_H-768_A-12/4\", trainable=True)\n",
        "outputs = encoder(encoder_inputs)\n",
        "pooled_output = outputs[\"pooled_output\"] # [batch_size, 768].\n",
        "sequence_output = outputs[\"sequence_output\"] # [batch_size, seq_length, 768]. "
      ],
      "metadata": {
        "id": "0SAL40sZ8C3P"
      },
      "execution_count": null,
      "outputs": []
    },
    {
      "cell_type": "code",
      "source": [
        "embedding_model = tf.keras.Model(text_input, pooled_output)\n",
        "sentences = tf.constant([\"my text, yes its not a crime\"]) \n",
        "#print(embedding_model(sentences))"
      ],
      "metadata": {
        "id": "XfOz73g49G-M"
      },
      "execution_count": null,
      "outputs": []
    },
    {
      "cell_type": "markdown",
      "source": [
        "## Text Classification using BERT & Tensorflow:\n",
        "BERT is embedding technnique issued used and issued by google for their serch text embedding and predicting next senetence for their recomender system and search recomendation. \n"
      ],
      "metadata": {
        "id": "7bzVB-KOR69w"
      }
    },
    {
      "cell_type": "code",
      "source": [
        "import pandas as pd\n",
        "\n",
        "df = pd.read_csv('spam_ham_dataset.csv')\n",
        "df.tail(5)"
      ],
      "metadata": {
        "colab": {
          "base_uri": "https://localhost:8080/",
          "height": 206
        },
        "id": "wZquPUjBRzfJ",
        "outputId": "30f0f430-7f03-4547-bdd6-7195afb47218"
      },
      "execution_count": null,
      "outputs": [
        {
          "output_type": "execute_result",
          "data": {
            "text/plain": [
              "     Unnamed: 0 label                                               text  \\\n",
              "8367       1518   ham  Subject: put the 10 on the ft\\r\\nthe transport...   \n",
              "8368        404   ham  Subject: 3 / 4 / 2000 and following noms\\r\\nhp...   \n",
              "8369       2933   ham  Subject: calpine daily gas nomination\\r\\n>\\r\\n...   \n",
              "8370       1409   ham  Subject: industrial worksheets for august 2000...   \n",
              "8371       4807  spam  Subject: important online banking alert\\r\\ndea...   \n",
              "\n",
              "      label_num  \n",
              "8367        0.0  \n",
              "8368        0.0  \n",
              "8369        0.0  \n",
              "8370        0.0  \n",
              "8371        1.0  "
            ],
            "text/html": [
              "\n",
              "  <div id=\"df-1debb9d0-536d-41d9-891c-1fdfdeae9f05\">\n",
              "    <div class=\"colab-df-container\">\n",
              "      <div>\n",
              "<style scoped>\n",
              "    .dataframe tbody tr th:only-of-type {\n",
              "        vertical-align: middle;\n",
              "    }\n",
              "\n",
              "    .dataframe tbody tr th {\n",
              "        vertical-align: top;\n",
              "    }\n",
              "\n",
              "    .dataframe thead th {\n",
              "        text-align: right;\n",
              "    }\n",
              "</style>\n",
              "<table border=\"1\" class=\"dataframe\">\n",
              "  <thead>\n",
              "    <tr style=\"text-align: right;\">\n",
              "      <th></th>\n",
              "      <th>Unnamed: 0</th>\n",
              "      <th>label</th>\n",
              "      <th>text</th>\n",
              "      <th>label_num</th>\n",
              "    </tr>\n",
              "  </thead>\n",
              "  <tbody>\n",
              "    <tr>\n",
              "      <th>8367</th>\n",
              "      <td>1518</td>\n",
              "      <td>ham</td>\n",
              "      <td>Subject: put the 10 on the ft\\r\\nthe transport...</td>\n",
              "      <td>0.0</td>\n",
              "    </tr>\n",
              "    <tr>\n",
              "      <th>8368</th>\n",
              "      <td>404</td>\n",
              "      <td>ham</td>\n",
              "      <td>Subject: 3 / 4 / 2000 and following noms\\r\\nhp...</td>\n",
              "      <td>0.0</td>\n",
              "    </tr>\n",
              "    <tr>\n",
              "      <th>8369</th>\n",
              "      <td>2933</td>\n",
              "      <td>ham</td>\n",
              "      <td>Subject: calpine daily gas nomination\\r\\n&gt;\\r\\n...</td>\n",
              "      <td>0.0</td>\n",
              "    </tr>\n",
              "    <tr>\n",
              "      <th>8370</th>\n",
              "      <td>1409</td>\n",
              "      <td>ham</td>\n",
              "      <td>Subject: industrial worksheets for august 2000...</td>\n",
              "      <td>0.0</td>\n",
              "    </tr>\n",
              "    <tr>\n",
              "      <th>8371</th>\n",
              "      <td>4807</td>\n",
              "      <td>spam</td>\n",
              "      <td>Subject: important online banking alert\\r\\ndea...</td>\n",
              "      <td>1.0</td>\n",
              "    </tr>\n",
              "  </tbody>\n",
              "</table>\n",
              "</div>\n",
              "      <button class=\"colab-df-convert\" onclick=\"convertToInteractive('df-1debb9d0-536d-41d9-891c-1fdfdeae9f05')\"\n",
              "              title=\"Convert this dataframe to an interactive table.\"\n",
              "              style=\"display:none;\">\n",
              "        \n",
              "  <svg xmlns=\"http://www.w3.org/2000/svg\" height=\"24px\"viewBox=\"0 0 24 24\"\n",
              "       width=\"24px\">\n",
              "    <path d=\"M0 0h24v24H0V0z\" fill=\"none\"/>\n",
              "    <path d=\"M18.56 5.44l.94 2.06.94-2.06 2.06-.94-2.06-.94-.94-2.06-.94 2.06-2.06.94zm-11 1L8.5 8.5l.94-2.06 2.06-.94-2.06-.94L8.5 2.5l-.94 2.06-2.06.94zm10 10l.94 2.06.94-2.06 2.06-.94-2.06-.94-.94-2.06-.94 2.06-2.06.94z\"/><path d=\"M17.41 7.96l-1.37-1.37c-.4-.4-.92-.59-1.43-.59-.52 0-1.04.2-1.43.59L10.3 9.45l-7.72 7.72c-.78.78-.78 2.05 0 2.83L4 21.41c.39.39.9.59 1.41.59.51 0 1.02-.2 1.41-.59l7.78-7.78 2.81-2.81c.8-.78.8-2.07 0-2.86zM5.41 20L4 18.59l7.72-7.72 1.47 1.35L5.41 20z\"/>\n",
              "  </svg>\n",
              "      </button>\n",
              "      \n",
              "  <style>\n",
              "    .colab-df-container {\n",
              "      display:flex;\n",
              "      flex-wrap:wrap;\n",
              "      gap: 12px;\n",
              "    }\n",
              "\n",
              "    .colab-df-convert {\n",
              "      background-color: #E8F0FE;\n",
              "      border: none;\n",
              "      border-radius: 50%;\n",
              "      cursor: pointer;\n",
              "      display: none;\n",
              "      fill: #1967D2;\n",
              "      height: 32px;\n",
              "      padding: 0 0 0 0;\n",
              "      width: 32px;\n",
              "    }\n",
              "\n",
              "    .colab-df-convert:hover {\n",
              "      background-color: #E2EBFA;\n",
              "      box-shadow: 0px 1px 2px rgba(60, 64, 67, 0.3), 0px 1px 3px 1px rgba(60, 64, 67, 0.15);\n",
              "      fill: #174EA6;\n",
              "    }\n",
              "\n",
              "    [theme=dark] .colab-df-convert {\n",
              "      background-color: #3B4455;\n",
              "      fill: #D2E3FC;\n",
              "    }\n",
              "\n",
              "    [theme=dark] .colab-df-convert:hover {\n",
              "      background-color: #434B5C;\n",
              "      box-shadow: 0px 1px 3px 1px rgba(0, 0, 0, 0.15);\n",
              "      filter: drop-shadow(0px 1px 2px rgba(0, 0, 0, 0.3));\n",
              "      fill: #FFFFFF;\n",
              "    }\n",
              "  </style>\n",
              "\n",
              "      <script>\n",
              "        const buttonEl =\n",
              "          document.querySelector('#df-1debb9d0-536d-41d9-891c-1fdfdeae9f05 button.colab-df-convert');\n",
              "        buttonEl.style.display =\n",
              "          google.colab.kernel.accessAllowed ? 'block' : 'none';\n",
              "\n",
              "        async function convertToInteractive(key) {\n",
              "          const element = document.querySelector('#df-1debb9d0-536d-41d9-891c-1fdfdeae9f05');\n",
              "          const dataTable =\n",
              "            await google.colab.kernel.invokeFunction('convertToInteractive',\n",
              "                                                     [key], {});\n",
              "          if (!dataTable) return;\n",
              "\n",
              "          const docLinkHtml = 'Like what you see? Visit the ' +\n",
              "            '<a target=\"_blank\" href=https://colab.research.google.com/notebooks/data_table.ipynb>data table notebook</a>'\n",
              "            + ' to learn more about interactive tables.';\n",
              "          element.innerHTML = '';\n",
              "          dataTable['output_type'] = 'display_data';\n",
              "          await google.colab.output.renderOutput(dataTable, element);\n",
              "          const docLink = document.createElement('div');\n",
              "          docLink.innerHTML = docLinkHtml;\n",
              "          element.appendChild(docLink);\n",
              "        }\n",
              "      </script>\n",
              "    </div>\n",
              "  </div>\n",
              "  "
            ]
          },
          "metadata": {},
          "execution_count": 33
        }
      ]
    },
    {
      "cell_type": "code",
      "source": [
        "df = df[df['label'].isin(['spam','ham'])]\n",
        "df.groupby('label').describe()"
      ],
      "metadata": {
        "colab": {
          "base_uri": "https://localhost:8080/",
          "height": 174
        },
        "id": "i4Wi8C0OVCB-",
        "outputId": "a3533182-8738-4e15-a41a-d39bceb9351a"
      },
      "execution_count": null,
      "outputs": [
        {
          "output_type": "execute_result",
          "data": {
            "text/plain": [
              "      label_num                                             \n",
              "          count      mean       std  min  25%  50%  75%  max\n",
              "label                                                       \n",
              "ham      5916.0  0.000338  0.018385  0.0  0.0  0.0  0.0  1.0\n",
              "spam     2437.0  0.999590  0.020257  0.0  1.0  1.0  1.0  1.0"
            ],
            "text/html": [
              "\n",
              "  <div id=\"df-364789bd-23df-4bb9-92dd-3b5fa1b9d0dd\">\n",
              "    <div class=\"colab-df-container\">\n",
              "      <div>\n",
              "<style scoped>\n",
              "    .dataframe tbody tr th:only-of-type {\n",
              "        vertical-align: middle;\n",
              "    }\n",
              "\n",
              "    .dataframe tbody tr th {\n",
              "        vertical-align: top;\n",
              "    }\n",
              "\n",
              "    .dataframe thead tr th {\n",
              "        text-align: left;\n",
              "    }\n",
              "\n",
              "    .dataframe thead tr:last-of-type th {\n",
              "        text-align: right;\n",
              "    }\n",
              "</style>\n",
              "<table border=\"1\" class=\"dataframe\">\n",
              "  <thead>\n",
              "    <tr>\n",
              "      <th></th>\n",
              "      <th colspan=\"8\" halign=\"left\">label_num</th>\n",
              "    </tr>\n",
              "    <tr>\n",
              "      <th></th>\n",
              "      <th>count</th>\n",
              "      <th>mean</th>\n",
              "      <th>std</th>\n",
              "      <th>min</th>\n",
              "      <th>25%</th>\n",
              "      <th>50%</th>\n",
              "      <th>75%</th>\n",
              "      <th>max</th>\n",
              "    </tr>\n",
              "    <tr>\n",
              "      <th>label</th>\n",
              "      <th></th>\n",
              "      <th></th>\n",
              "      <th></th>\n",
              "      <th></th>\n",
              "      <th></th>\n",
              "      <th></th>\n",
              "      <th></th>\n",
              "      <th></th>\n",
              "    </tr>\n",
              "  </thead>\n",
              "  <tbody>\n",
              "    <tr>\n",
              "      <th>ham</th>\n",
              "      <td>5916.0</td>\n",
              "      <td>0.000338</td>\n",
              "      <td>0.018385</td>\n",
              "      <td>0.0</td>\n",
              "      <td>0.0</td>\n",
              "      <td>0.0</td>\n",
              "      <td>0.0</td>\n",
              "      <td>1.0</td>\n",
              "    </tr>\n",
              "    <tr>\n",
              "      <th>spam</th>\n",
              "      <td>2437.0</td>\n",
              "      <td>0.999590</td>\n",
              "      <td>0.020257</td>\n",
              "      <td>0.0</td>\n",
              "      <td>1.0</td>\n",
              "      <td>1.0</td>\n",
              "      <td>1.0</td>\n",
              "      <td>1.0</td>\n",
              "    </tr>\n",
              "  </tbody>\n",
              "</table>\n",
              "</div>\n",
              "      <button class=\"colab-df-convert\" onclick=\"convertToInteractive('df-364789bd-23df-4bb9-92dd-3b5fa1b9d0dd')\"\n",
              "              title=\"Convert this dataframe to an interactive table.\"\n",
              "              style=\"display:none;\">\n",
              "        \n",
              "  <svg xmlns=\"http://www.w3.org/2000/svg\" height=\"24px\"viewBox=\"0 0 24 24\"\n",
              "       width=\"24px\">\n",
              "    <path d=\"M0 0h24v24H0V0z\" fill=\"none\"/>\n",
              "    <path d=\"M18.56 5.44l.94 2.06.94-2.06 2.06-.94-2.06-.94-.94-2.06-.94 2.06-2.06.94zm-11 1L8.5 8.5l.94-2.06 2.06-.94-2.06-.94L8.5 2.5l-.94 2.06-2.06.94zm10 10l.94 2.06.94-2.06 2.06-.94-2.06-.94-.94-2.06-.94 2.06-2.06.94z\"/><path d=\"M17.41 7.96l-1.37-1.37c-.4-.4-.92-.59-1.43-.59-.52 0-1.04.2-1.43.59L10.3 9.45l-7.72 7.72c-.78.78-.78 2.05 0 2.83L4 21.41c.39.39.9.59 1.41.59.51 0 1.02-.2 1.41-.59l7.78-7.78 2.81-2.81c.8-.78.8-2.07 0-2.86zM5.41 20L4 18.59l7.72-7.72 1.47 1.35L5.41 20z\"/>\n",
              "  </svg>\n",
              "      </button>\n",
              "      \n",
              "  <style>\n",
              "    .colab-df-container {\n",
              "      display:flex;\n",
              "      flex-wrap:wrap;\n",
              "      gap: 12px;\n",
              "    }\n",
              "\n",
              "    .colab-df-convert {\n",
              "      background-color: #E8F0FE;\n",
              "      border: none;\n",
              "      border-radius: 50%;\n",
              "      cursor: pointer;\n",
              "      display: none;\n",
              "      fill: #1967D2;\n",
              "      height: 32px;\n",
              "      padding: 0 0 0 0;\n",
              "      width: 32px;\n",
              "    }\n",
              "\n",
              "    .colab-df-convert:hover {\n",
              "      background-color: #E2EBFA;\n",
              "      box-shadow: 0px 1px 2px rgba(60, 64, 67, 0.3), 0px 1px 3px 1px rgba(60, 64, 67, 0.15);\n",
              "      fill: #174EA6;\n",
              "    }\n",
              "\n",
              "    [theme=dark] .colab-df-convert {\n",
              "      background-color: #3B4455;\n",
              "      fill: #D2E3FC;\n",
              "    }\n",
              "\n",
              "    [theme=dark] .colab-df-convert:hover {\n",
              "      background-color: #434B5C;\n",
              "      box-shadow: 0px 1px 3px 1px rgba(0, 0, 0, 0.15);\n",
              "      filter: drop-shadow(0px 1px 2px rgba(0, 0, 0, 0.3));\n",
              "      fill: #FFFFFF;\n",
              "    }\n",
              "  </style>\n",
              "\n",
              "      <script>\n",
              "        const buttonEl =\n",
              "          document.querySelector('#df-364789bd-23df-4bb9-92dd-3b5fa1b9d0dd button.colab-df-convert');\n",
              "        buttonEl.style.display =\n",
              "          google.colab.kernel.accessAllowed ? 'block' : 'none';\n",
              "\n",
              "        async function convertToInteractive(key) {\n",
              "          const element = document.querySelector('#df-364789bd-23df-4bb9-92dd-3b5fa1b9d0dd');\n",
              "          const dataTable =\n",
              "            await google.colab.kernel.invokeFunction('convertToInteractive',\n",
              "                                                     [key], {});\n",
              "          if (!dataTable) return;\n",
              "\n",
              "          const docLinkHtml = 'Like what you see? Visit the ' +\n",
              "            '<a target=\"_blank\" href=https://colab.research.google.com/notebooks/data_table.ipynb>data table notebook</a>'\n",
              "            + ' to learn more about interactive tables.';\n",
              "          element.innerHTML = '';\n",
              "          dataTable['output_type'] = 'display_data';\n",
              "          await google.colab.output.renderOutput(dataTable, element);\n",
              "          const docLink = document.createElement('div');\n",
              "          docLink.innerHTML = docLinkHtml;\n",
              "          element.appendChild(docLink);\n",
              "        }\n",
              "      </script>\n",
              "    </div>\n",
              "  </div>\n",
              "  "
            ]
          },
          "metadata": {},
          "execution_count": 40
        }
      ]
    },
    {
      "cell_type": "code",
      "source": [
        "df['label'].value_counts()"
      ],
      "metadata": {
        "colab": {
          "base_uri": "https://localhost:8080/"
        },
        "id": "WuAPdT0pWAoO",
        "outputId": "f6658579-5995-473a-bb33-cd34a0520e61"
      },
      "execution_count": null,
      "outputs": [
        {
          "output_type": "execute_result",
          "data": {
            "text/plain": [
              "ham     5916\n",
              "spam    2437\n",
              "Name: label, dtype: int64"
            ]
          },
          "metadata": {},
          "execution_count": 37
        }
      ]
    },
    {
      "cell_type": "code",
      "source": [
        "df_spam = df[df['label']=='spam']\n",
        "df_spam.shape"
      ],
      "metadata": {
        "colab": {
          "base_uri": "https://localhost:8080/"
        },
        "id": "5DCrteRrWIU8",
        "outputId": "fca1aac7-937b-4b3b-d67e-4eff2aa427b2"
      },
      "execution_count": null,
      "outputs": [
        {
          "output_type": "execute_result",
          "data": {
            "text/plain": [
              "(2437, 4)"
            ]
          },
          "metadata": {},
          "execution_count": 42
        }
      ]
    },
    {
      "cell_type": "code",
      "source": [
        "df_ham = df[df['label'] == 'ham']\n",
        "df_ham.shape"
      ],
      "metadata": {
        "colab": {
          "base_uri": "https://localhost:8080/"
        },
        "id": "oE47cKy-Wz3-",
        "outputId": "c9545693-48b5-42b6-e2ce-98ceeb7b5a40"
      },
      "execution_count": null,
      "outputs": [
        {
          "output_type": "execute_result",
          "data": {
            "text/plain": [
              "(5916, 4)"
            ]
          },
          "metadata": {},
          "execution_count": 43
        }
      ]
    },
    {
      "cell_type": "code",
      "source": [
        "df_ham_downsampled = df_ham.sample(df_spam.shape[0])\n",
        "df_ham_downsampled.shape"
      ],
      "metadata": {
        "colab": {
          "base_uri": "https://localhost:8080/"
        },
        "id": "fetxnWCnW86l",
        "outputId": "0c257475-24c9-4c80-fb98-0bf20fd43f24"
      },
      "execution_count": null,
      "outputs": [
        {
          "output_type": "execute_result",
          "data": {
            "text/plain": [
              "(2437, 4)"
            ]
          },
          "metadata": {},
          "execution_count": 47
        }
      ]
    },
    {
      "cell_type": "code",
      "source": [
        "df_balanced = pd.concat([df_spam, df_ham_downsampled])\n",
        "df_balanced.shape"
      ],
      "metadata": {
        "colab": {
          "base_uri": "https://localhost:8080/"
        },
        "id": "kYV1CaUaXnZZ",
        "outputId": "17d7bd36-2132-407f-b124-6f1e1807865d"
      },
      "execution_count": null,
      "outputs": [
        {
          "output_type": "execute_result",
          "data": {
            "text/plain": [
              "(4874, 4)"
            ]
          },
          "metadata": {},
          "execution_count": 52
        }
      ]
    },
    {
      "cell_type": "code",
      "source": [
        "df_balanced['label'].value_counts()"
      ],
      "metadata": {
        "colab": {
          "base_uri": "https://localhost:8080/"
        },
        "id": "Qsrj5HZNYAiJ",
        "outputId": "9fbace35-4b39-4d89-ae5f-7712287f85e0"
      },
      "execution_count": null,
      "outputs": [
        {
          "output_type": "execute_result",
          "data": {
            "text/plain": [
              "spam    2437\n",
              "ham     2437\n",
              "Name: label, dtype: int64"
            ]
          },
          "metadata": {},
          "execution_count": 53
        }
      ]
    },
    {
      "cell_type": "code",
      "source": [
        "df_balanced.sample(5)"
      ],
      "metadata": {
        "colab": {
          "base_uri": "https://localhost:8080/",
          "height": 206
        },
        "id": "ZDYe1Ui4YT-g",
        "outputId": "8390cf8d-05fb-435e-ac1c-afdf6ebdc1bb"
      },
      "execution_count": null,
      "outputs": [
        {
          "output_type": "execute_result",
          "data": {
            "text/plain": [
              "     Unnamed: 0 label                                               text  \\\n",
              "4454       1454   ham  Subject: enron / hpl actuals for august 23 , 2...   \n",
              "2657       2732   ham  Subject: fw : [ fwd : two prayer requests ]\\r\\...   \n",
              "3651       2358   ham  Subject: welcome to expedia . com !\\r\\nwelcome...   \n",
              "491         584   ham  Subject: re : new update for buybacks\\r\\npleas...   \n",
              "4565       4617  spam  Subject: samsung combination drive @ $ 34 . 90...   \n",
              "\n",
              "      label_num  \n",
              "4454        0.0  \n",
              "2657        0.0  \n",
              "3651        0.0  \n",
              "491         0.0  \n",
              "4565        1.0  "
            ],
            "text/html": [
              "\n",
              "  <div id=\"df-58b04f88-4f79-407d-b01d-1b4dd95f83c3\">\n",
              "    <div class=\"colab-df-container\">\n",
              "      <div>\n",
              "<style scoped>\n",
              "    .dataframe tbody tr th:only-of-type {\n",
              "        vertical-align: middle;\n",
              "    }\n",
              "\n",
              "    .dataframe tbody tr th {\n",
              "        vertical-align: top;\n",
              "    }\n",
              "\n",
              "    .dataframe thead th {\n",
              "        text-align: right;\n",
              "    }\n",
              "</style>\n",
              "<table border=\"1\" class=\"dataframe\">\n",
              "  <thead>\n",
              "    <tr style=\"text-align: right;\">\n",
              "      <th></th>\n",
              "      <th>Unnamed: 0</th>\n",
              "      <th>label</th>\n",
              "      <th>text</th>\n",
              "      <th>label_num</th>\n",
              "    </tr>\n",
              "  </thead>\n",
              "  <tbody>\n",
              "    <tr>\n",
              "      <th>4454</th>\n",
              "      <td>1454</td>\n",
              "      <td>ham</td>\n",
              "      <td>Subject: enron / hpl actuals for august 23 , 2...</td>\n",
              "      <td>0.0</td>\n",
              "    </tr>\n",
              "    <tr>\n",
              "      <th>2657</th>\n",
              "      <td>2732</td>\n",
              "      <td>ham</td>\n",
              "      <td>Subject: fw : [ fwd : two prayer requests ]\\r\\...</td>\n",
              "      <td>0.0</td>\n",
              "    </tr>\n",
              "    <tr>\n",
              "      <th>3651</th>\n",
              "      <td>2358</td>\n",
              "      <td>ham</td>\n",
              "      <td>Subject: welcome to expedia . com !\\r\\nwelcome...</td>\n",
              "      <td>0.0</td>\n",
              "    </tr>\n",
              "    <tr>\n",
              "      <th>491</th>\n",
              "      <td>584</td>\n",
              "      <td>ham</td>\n",
              "      <td>Subject: re : new update for buybacks\\r\\npleas...</td>\n",
              "      <td>0.0</td>\n",
              "    </tr>\n",
              "    <tr>\n",
              "      <th>4565</th>\n",
              "      <td>4617</td>\n",
              "      <td>spam</td>\n",
              "      <td>Subject: samsung combination drive @ $ 34 . 90...</td>\n",
              "      <td>1.0</td>\n",
              "    </tr>\n",
              "  </tbody>\n",
              "</table>\n",
              "</div>\n",
              "      <button class=\"colab-df-convert\" onclick=\"convertToInteractive('df-58b04f88-4f79-407d-b01d-1b4dd95f83c3')\"\n",
              "              title=\"Convert this dataframe to an interactive table.\"\n",
              "              style=\"display:none;\">\n",
              "        \n",
              "  <svg xmlns=\"http://www.w3.org/2000/svg\" height=\"24px\"viewBox=\"0 0 24 24\"\n",
              "       width=\"24px\">\n",
              "    <path d=\"M0 0h24v24H0V0z\" fill=\"none\"/>\n",
              "    <path d=\"M18.56 5.44l.94 2.06.94-2.06 2.06-.94-2.06-.94-.94-2.06-.94 2.06-2.06.94zm-11 1L8.5 8.5l.94-2.06 2.06-.94-2.06-.94L8.5 2.5l-.94 2.06-2.06.94zm10 10l.94 2.06.94-2.06 2.06-.94-2.06-.94-.94-2.06-.94 2.06-2.06.94z\"/><path d=\"M17.41 7.96l-1.37-1.37c-.4-.4-.92-.59-1.43-.59-.52 0-1.04.2-1.43.59L10.3 9.45l-7.72 7.72c-.78.78-.78 2.05 0 2.83L4 21.41c.39.39.9.59 1.41.59.51 0 1.02-.2 1.41-.59l7.78-7.78 2.81-2.81c.8-.78.8-2.07 0-2.86zM5.41 20L4 18.59l7.72-7.72 1.47 1.35L5.41 20z\"/>\n",
              "  </svg>\n",
              "      </button>\n",
              "      \n",
              "  <style>\n",
              "    .colab-df-container {\n",
              "      display:flex;\n",
              "      flex-wrap:wrap;\n",
              "      gap: 12px;\n",
              "    }\n",
              "\n",
              "    .colab-df-convert {\n",
              "      background-color: #E8F0FE;\n",
              "      border: none;\n",
              "      border-radius: 50%;\n",
              "      cursor: pointer;\n",
              "      display: none;\n",
              "      fill: #1967D2;\n",
              "      height: 32px;\n",
              "      padding: 0 0 0 0;\n",
              "      width: 32px;\n",
              "    }\n",
              "\n",
              "    .colab-df-convert:hover {\n",
              "      background-color: #E2EBFA;\n",
              "      box-shadow: 0px 1px 2px rgba(60, 64, 67, 0.3), 0px 1px 3px 1px rgba(60, 64, 67, 0.15);\n",
              "      fill: #174EA6;\n",
              "    }\n",
              "\n",
              "    [theme=dark] .colab-df-convert {\n",
              "      background-color: #3B4455;\n",
              "      fill: #D2E3FC;\n",
              "    }\n",
              "\n",
              "    [theme=dark] .colab-df-convert:hover {\n",
              "      background-color: #434B5C;\n",
              "      box-shadow: 0px 1px 3px 1px rgba(0, 0, 0, 0.15);\n",
              "      filter: drop-shadow(0px 1px 2px rgba(0, 0, 0, 0.3));\n",
              "      fill: #FFFFFF;\n",
              "    }\n",
              "  </style>\n",
              "\n",
              "      <script>\n",
              "        const buttonEl =\n",
              "          document.querySelector('#df-58b04f88-4f79-407d-b01d-1b4dd95f83c3 button.colab-df-convert');\n",
              "        buttonEl.style.display =\n",
              "          google.colab.kernel.accessAllowed ? 'block' : 'none';\n",
              "\n",
              "        async function convertToInteractive(key) {\n",
              "          const element = document.querySelector('#df-58b04f88-4f79-407d-b01d-1b4dd95f83c3');\n",
              "          const dataTable =\n",
              "            await google.colab.kernel.invokeFunction('convertToInteractive',\n",
              "                                                     [key], {});\n",
              "          if (!dataTable) return;\n",
              "\n",
              "          const docLinkHtml = 'Like what you see? Visit the ' +\n",
              "            '<a target=\"_blank\" href=https://colab.research.google.com/notebooks/data_table.ipynb>data table notebook</a>'\n",
              "            + ' to learn more about interactive tables.';\n",
              "          element.innerHTML = '';\n",
              "          dataTable['output_type'] = 'display_data';\n",
              "          await google.colab.output.renderOutput(dataTable, element);\n",
              "          const docLink = document.createElement('div');\n",
              "          docLink.innerHTML = docLinkHtml;\n",
              "          element.appendChild(docLink);\n",
              "        }\n",
              "      </script>\n",
              "    </div>\n",
              "  </div>\n",
              "  "
            ]
          },
          "metadata": {},
          "execution_count": 56
        }
      ]
    },
    {
      "cell_type": "code",
      "source": [
        "df_balanced['spam'] = df_balanced['label'].apply(lambda x: 1 if x=='spam' else 0)\n",
        "df_balanced.sample(5)"
      ],
      "metadata": {
        "colab": {
          "base_uri": "https://localhost:8080/",
          "height": 206
        },
        "id": "yTM52jzOYjuU",
        "outputId": "bafc9ab4-e2a2-45ba-d210-887e1e27a35b"
      },
      "execution_count": null,
      "outputs": [
        {
          "output_type": "execute_result",
          "data": {
            "text/plain": [
              "     Unnamed: 0 label                                               text  \\\n",
              "1654       3344   ham  Subject: trv notification : ( waha - 06 / 21 /...   \n",
              "6407       1158   ham  Subject: 98 - 6892 ( sitara deal 319063 )\\r\\nt...   \n",
              "8051       3701  spam  Subject: aylesbgry sgclude oisv msjgnkrlf\\r\\nh...   \n",
              "5627       4997  spam  Subject: ciallis softabs onlly $ 3 . 99\\r\\n% q...   \n",
              "760        4783  spam  Subject: fw : windows xp + office xp = 80 dol ...   \n",
              "\n",
              "      label_num  spam  \n",
              "1654        0.0     0  \n",
              "6407        0.0     0  \n",
              "8051        1.0     1  \n",
              "5627        1.0     1  \n",
              "760         1.0     1  "
            ],
            "text/html": [
              "\n",
              "  <div id=\"df-a8331d5c-4bd1-488e-a8e7-e565511308da\">\n",
              "    <div class=\"colab-df-container\">\n",
              "      <div>\n",
              "<style scoped>\n",
              "    .dataframe tbody tr th:only-of-type {\n",
              "        vertical-align: middle;\n",
              "    }\n",
              "\n",
              "    .dataframe tbody tr th {\n",
              "        vertical-align: top;\n",
              "    }\n",
              "\n",
              "    .dataframe thead th {\n",
              "        text-align: right;\n",
              "    }\n",
              "</style>\n",
              "<table border=\"1\" class=\"dataframe\">\n",
              "  <thead>\n",
              "    <tr style=\"text-align: right;\">\n",
              "      <th></th>\n",
              "      <th>Unnamed: 0</th>\n",
              "      <th>label</th>\n",
              "      <th>text</th>\n",
              "      <th>label_num</th>\n",
              "      <th>spam</th>\n",
              "    </tr>\n",
              "  </thead>\n",
              "  <tbody>\n",
              "    <tr>\n",
              "      <th>1654</th>\n",
              "      <td>3344</td>\n",
              "      <td>ham</td>\n",
              "      <td>Subject: trv notification : ( waha - 06 / 21 /...</td>\n",
              "      <td>0.0</td>\n",
              "      <td>0</td>\n",
              "    </tr>\n",
              "    <tr>\n",
              "      <th>6407</th>\n",
              "      <td>1158</td>\n",
              "      <td>ham</td>\n",
              "      <td>Subject: 98 - 6892 ( sitara deal 319063 )\\r\\nt...</td>\n",
              "      <td>0.0</td>\n",
              "      <td>0</td>\n",
              "    </tr>\n",
              "    <tr>\n",
              "      <th>8051</th>\n",
              "      <td>3701</td>\n",
              "      <td>spam</td>\n",
              "      <td>Subject: aylesbgry sgclude oisv msjgnkrlf\\r\\nh...</td>\n",
              "      <td>1.0</td>\n",
              "      <td>1</td>\n",
              "    </tr>\n",
              "    <tr>\n",
              "      <th>5627</th>\n",
              "      <td>4997</td>\n",
              "      <td>spam</td>\n",
              "      <td>Subject: ciallis softabs onlly $ 3 . 99\\r\\n% q...</td>\n",
              "      <td>1.0</td>\n",
              "      <td>1</td>\n",
              "    </tr>\n",
              "    <tr>\n",
              "      <th>760</th>\n",
              "      <td>4783</td>\n",
              "      <td>spam</td>\n",
              "      <td>Subject: fw : windows xp + office xp = 80 dol ...</td>\n",
              "      <td>1.0</td>\n",
              "      <td>1</td>\n",
              "    </tr>\n",
              "  </tbody>\n",
              "</table>\n",
              "</div>\n",
              "      <button class=\"colab-df-convert\" onclick=\"convertToInteractive('df-a8331d5c-4bd1-488e-a8e7-e565511308da')\"\n",
              "              title=\"Convert this dataframe to an interactive table.\"\n",
              "              style=\"display:none;\">\n",
              "        \n",
              "  <svg xmlns=\"http://www.w3.org/2000/svg\" height=\"24px\"viewBox=\"0 0 24 24\"\n",
              "       width=\"24px\">\n",
              "    <path d=\"M0 0h24v24H0V0z\" fill=\"none\"/>\n",
              "    <path d=\"M18.56 5.44l.94 2.06.94-2.06 2.06-.94-2.06-.94-.94-2.06-.94 2.06-2.06.94zm-11 1L8.5 8.5l.94-2.06 2.06-.94-2.06-.94L8.5 2.5l-.94 2.06-2.06.94zm10 10l.94 2.06.94-2.06 2.06-.94-2.06-.94-.94-2.06-.94 2.06-2.06.94z\"/><path d=\"M17.41 7.96l-1.37-1.37c-.4-.4-.92-.59-1.43-.59-.52 0-1.04.2-1.43.59L10.3 9.45l-7.72 7.72c-.78.78-.78 2.05 0 2.83L4 21.41c.39.39.9.59 1.41.59.51 0 1.02-.2 1.41-.59l7.78-7.78 2.81-2.81c.8-.78.8-2.07 0-2.86zM5.41 20L4 18.59l7.72-7.72 1.47 1.35L5.41 20z\"/>\n",
              "  </svg>\n",
              "      </button>\n",
              "      \n",
              "  <style>\n",
              "    .colab-df-container {\n",
              "      display:flex;\n",
              "      flex-wrap:wrap;\n",
              "      gap: 12px;\n",
              "    }\n",
              "\n",
              "    .colab-df-convert {\n",
              "      background-color: #E8F0FE;\n",
              "      border: none;\n",
              "      border-radius: 50%;\n",
              "      cursor: pointer;\n",
              "      display: none;\n",
              "      fill: #1967D2;\n",
              "      height: 32px;\n",
              "      padding: 0 0 0 0;\n",
              "      width: 32px;\n",
              "    }\n",
              "\n",
              "    .colab-df-convert:hover {\n",
              "      background-color: #E2EBFA;\n",
              "      box-shadow: 0px 1px 2px rgba(60, 64, 67, 0.3), 0px 1px 3px 1px rgba(60, 64, 67, 0.15);\n",
              "      fill: #174EA6;\n",
              "    }\n",
              "\n",
              "    [theme=dark] .colab-df-convert {\n",
              "      background-color: #3B4455;\n",
              "      fill: #D2E3FC;\n",
              "    }\n",
              "\n",
              "    [theme=dark] .colab-df-convert:hover {\n",
              "      background-color: #434B5C;\n",
              "      box-shadow: 0px 1px 3px 1px rgba(0, 0, 0, 0.15);\n",
              "      filter: drop-shadow(0px 1px 2px rgba(0, 0, 0, 0.3));\n",
              "      fill: #FFFFFF;\n",
              "    }\n",
              "  </style>\n",
              "\n",
              "      <script>\n",
              "        const buttonEl =\n",
              "          document.querySelector('#df-a8331d5c-4bd1-488e-a8e7-e565511308da button.colab-df-convert');\n",
              "        buttonEl.style.display =\n",
              "          google.colab.kernel.accessAllowed ? 'block' : 'none';\n",
              "\n",
              "        async function convertToInteractive(key) {\n",
              "          const element = document.querySelector('#df-a8331d5c-4bd1-488e-a8e7-e565511308da');\n",
              "          const dataTable =\n",
              "            await google.colab.kernel.invokeFunction('convertToInteractive',\n",
              "                                                     [key], {});\n",
              "          if (!dataTable) return;\n",
              "\n",
              "          const docLinkHtml = 'Like what you see? Visit the ' +\n",
              "            '<a target=\"_blank\" href=https://colab.research.google.com/notebooks/data_table.ipynb>data table notebook</a>'\n",
              "            + ' to learn more about interactive tables.';\n",
              "          element.innerHTML = '';\n",
              "          dataTable['output_type'] = 'display_data';\n",
              "          await google.colab.output.renderOutput(dataTable, element);\n",
              "          const docLink = document.createElement('div');\n",
              "          docLink.innerHTML = docLinkHtml;\n",
              "          element.appendChild(docLink);\n",
              "        }\n",
              "      </script>\n",
              "    </div>\n",
              "  </div>\n",
              "  "
            ]
          },
          "metadata": {},
          "execution_count": 57
        }
      ]
    },
    {
      "cell_type": "code",
      "source": [
        "from sklearn.model_selection import train_test_split\n",
        "\n",
        "x_train, x_test, y_train, y_test = train_test_split(df_balanced['text'], df_balanced['spam'], stratify=df_balanced['spam'])"
      ],
      "metadata": {
        "id": "0JHJRdS9Y866"
      },
      "execution_count": null,
      "outputs": []
    },
    {
      "cell_type": "code",
      "source": [
        "x_train.head()"
      ],
      "metadata": {
        "colab": {
          "base_uri": "https://localhost:8080/"
        },
        "id": "0CHAJlokZhDI",
        "outputId": "014a5800-db30-42c0-e55e-8953c7a8ce26"
      },
      "execution_count": null,
      "outputs": [
        {
          "output_type": "execute_result",
          "data": {
            "text/plain": [
              "1718    Subject: cornhusker for sept\\r\\ndaren informed...\n",
              "5032    Subject: online pharmacy yo\\r\\nwould you like ...\n",
              "3046    Subject: 1 / 2000 meter 9643 three rivers issu...\n",
              "1563    Subject: thanks from ken walther\\r\\ni can not ...\n",
              "7224    Subject: re : cp & l\\r\\ncan we verified this g...\n",
              "Name: text, dtype: object"
            ]
          },
          "metadata": {},
          "execution_count": 63
        }
      ]
    },
    {
      "cell_type": "markdown",
      "source": [
        "## BERT part"
      ],
      "metadata": {
        "id": "IFe05Bu2Z1Dw"
      }
    },
    {
      "cell_type": "code",
      "source": [
        "# get model and preprocessing details into keras layes to preocess it \n",
        "preprocess_bert= hub.KerasLayer('https://tfhub.dev/tensorflow/bert_en_uncased_preprocess/3')\n",
        "encoder_model = hub.KerasLayer('https://tfhub.dev/tensorflow/bert_en_uncased_L-12_H-768_A-12/4')"
      ],
      "metadata": {
        "id": "d7EldUEuZ32x"
      },
      "execution_count": null,
      "outputs": []
    },
    {
      "cell_type": "code",
      "source": [
        ""
      ],
      "metadata": {
        "id": "V5kAI5HNZ0gc"
      },
      "execution_count": null,
      "outputs": []
    },
    {
      "cell_type": "markdown",
      "source": [
        "whenver a sentence is given as an input to the BERT model it should return a vector of length of 768 which is further fed to neural network. \n",
        "get_sentence_embedding('one email text')  --> vector 768\n",
        "if we a give multiple emails text to this function it will return multpile arrays each of size 768.\n",
        "\n",
        "![spam.jpg](data:image/jpeg;base64,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)"
      ],
      "metadata": {
        "id": "3CukjX4kaegG"
      }
    },
    {
      "cell_type": "code",
      "source": [
        "def get_sentence_embedding(sentences):\n",
        "  text_preprocessed = preprocess_bert(sentences) # get texted \n",
        "  bert_model_output = encoder_model(text_preprocessed)['pooled_output']  # output_pooled == encoder_output[-1]\n",
        "  return bert_model_output\n",
        "\n",
        "# testing\n",
        "get_sentence_embedding([\n",
        "                        \"500% discount. huurry up\",\n",
        "                        \"hey bro, are you up for volley ball today\"\n",
        "])"
      ],
      "metadata": {
        "colab": {
          "base_uri": "https://localhost:8080/"
        },
        "id": "_NxN79YDbe5M",
        "outputId": "6527312d-3f14-4e83-bd8e-c2997e6dc533"
      },
      "execution_count": null,
      "outputs": [
        {
          "output_type": "execute_result",
          "data": {
            "text/plain": [
              "<tf.Tensor: shape=(2, 768), dtype=float32, numpy=\n",
              "array([[-0.86368674, -0.49868053, -0.96039814, ..., -0.82212704,\n",
              "        -0.7274485 ,  0.8637599 ],\n",
              "       [-0.8987102 , -0.5625464 , -0.8711486 , ..., -0.8507718 ,\n",
              "        -0.6928046 ,  0.9131626 ]], dtype=float32)>"
            ]
          },
          "metadata": {},
          "execution_count": 82
        }
      ]
    },
    {
      "cell_type": "code",
      "source": [
        "e = get_sentence_embedding([\n",
        "                            'banana is bad to eat',\n",
        "                            'high school student',\n",
        "                            'we eat food',\n",
        "                            'we do not like this game',\n",
        "                            'criceket is not a vector'\n",
        "])\n"
      ],
      "metadata": {
        "id": "-odXT-sXb1TU"
      },
      "execution_count": null,
      "outputs": []
    },
    {
      "cell_type": "code",
      "source": [
        "from sklearn.metrics.pairwise import cosine_similarity\n",
        "\n",
        "cosine_similarity([e[0]], [e[4]])"
      ],
      "metadata": {
        "colab": {
          "base_uri": "https://localhost:8080/"
        },
        "id": "JHRQkInlej-W",
        "outputId": "1dad390c-0090-42f9-d67c-7ce105e4205b"
      },
      "execution_count": null,
      "outputs": [
        {
          "output_type": "execute_result",
          "data": {
            "text/plain": [
              "array([[0.9317212]], dtype=float32)"
            ]
          },
          "metadata": {},
          "execution_count": 79
        }
      ]
    },
    {
      "cell_type": "markdown",
      "source": [
        "## Create model \n",
        "either sequential or functional model. now in this program we will create funtional model as for previously we created all sequential models. while in funtional model we will create layers into function. \n",
        "\n",
        "read more details here:\n",
        "https://medium.com/p/20684f766057 "
      ],
      "metadata": {
        "id": "klyY1o4vfoOH"
      }
    },
    {
      "cell_type": "code",
      "source": [
        "text_input = tf.keras.layers.Input(shape=(), dtype=tf.string, name='text')  # text is name od layer\n",
        "\n",
        "preprocessed_text = preprocess_bert(text_input) # first BERT layer whic gets input sentences \n",
        "outputs = encoder_model(preprocessed_text) # embedded sentences output\n",
        "\n",
        "# neural network layers\n",
        "\n",
        "l = tf.keras.layers.Dropout(0.1, name='dropout_layer')(outputs['pooled_output']) # dropping 1% to save from overfiting\n",
        "l = tf.keras.layers.Dense(1, activation='sigmoid', name='output') (l)\n",
        "\n",
        "# construct final model\n",
        "model = tf.keras.Model(inputs=[text_input], outputs=[l])\n"
      ],
      "metadata": {
        "id": "83qZiHdUfhOz"
      },
      "execution_count": null,
      "outputs": []
    },
    {
      "cell_type": "code",
      "source": [
        "model.summary()"
      ],
      "metadata": {
        "colab": {
          "base_uri": "https://localhost:8080/"
        },
        "id": "TAlMbUHugvsk",
        "outputId": "c7880b2e-ca6b-4dfc-a4e8-daf664d08ffe"
      },
      "execution_count": null,
      "outputs": [
        {
          "output_type": "stream",
          "name": "stdout",
          "text": [
            "Model: \"model_4\"\n",
            "__________________________________________________________________________________________________\n",
            " Layer (type)                   Output Shape         Param #     Connected to                     \n",
            "==================================================================================================\n",
            " text (InputLayer)              [(None,)]            0           []                               \n",
            "                                                                                                  \n",
            " keras_layer_8 (KerasLayer)     {'input_type_ids':   0           ['text[0][0]']                   \n",
            "                                (None, 128),                                                      \n",
            "                                 'input_word_ids':                                                \n",
            "                                (None, 128),                                                      \n",
            "                                 'input_mask': (Non                                               \n",
            "                                e, 128)}                                                          \n",
            "                                                                                                  \n",
            " keras_layer_9 (KerasLayer)     {'sequence_output':  109482241   ['keras_layer_8[0][0]',          \n",
            "                                 (None, 128, 768),                'keras_layer_8[0][1]',          \n",
            "                                 'default': (None,                'keras_layer_8[0][2]']          \n",
            "                                768),                                                             \n",
            "                                 'pooled_output': (                                               \n",
            "                                None, 768),                                                       \n",
            "                                 'encoder_outputs':                                               \n",
            "                                 [(None, 128, 768),                                               \n",
            "                                 (None, 128, 768),                                                \n",
            "                                 (None, 128, 768),                                                \n",
            "                                 (None, 128, 768),                                                \n",
            "                                 (None, 128, 768),                                                \n",
            "                                 (None, 128, 768),                                                \n",
            "                                 (None, 128, 768),                                                \n",
            "                                 (None, 128, 768),                                                \n",
            "                                 (None, 128, 768),                                                \n",
            "                                 (None, 128, 768),                                                \n",
            "                                 (None, 128, 768),                                                \n",
            "                                 (None, 128, 768)]}                                               \n",
            "                                                                                                  \n",
            " dropout_layer (Dropout)        (None, 768)          0           ['keras_layer_9[0][13]']         \n",
            "                                                                                                  \n",
            " output (Dense)                 (None, 1)            769         ['dropout_layer[0][0]']          \n",
            "                                                                                                  \n",
            "==================================================================================================\n",
            "Total params: 109,483,010\n",
            "Trainable params: 769\n",
            "Non-trainable params: 109,482,241\n",
            "__________________________________________________________________________________________________\n"
          ]
        }
      ]
    },
    {
      "cell_type": "code",
      "source": [
        "Matrics = [\n",
        "           tf.keras.metrics.BinaryAccuracy(name='accuracy'),\n",
        "           tf.keras.metrics.Precision(name='precison'),\n",
        "           tf.keras.metrics.Recall(name ='recall')\n",
        "]\n",
        "\n",
        "model.compile( \n",
        "    optimizer = 'adam',\n",
        "    loss='binary_crossentropy', # training is driven by loss function\n",
        "    metrics = Matrics\n",
        ")"
      ],
      "metadata": {
        "id": "3m1k8JOTfWqu"
      },
      "execution_count": null,
      "outputs": []
    },
    {
      "cell_type": "code",
      "source": [
        "#model.fit(x_train, y_train, epochs=5)"
      ],
      "metadata": {
        "colab": {
          "base_uri": "https://localhost:8080/"
        },
        "id": "Bu6W4-H92_8q",
        "outputId": "8f883585-5cde-426e-fa9a-ffb23addf888"
      },
      "execution_count": null,
      "outputs": [
        {
          "output_type": "stream",
          "name": "stdout",
          "text": [
            "Epoch 1/5\n",
            "115/115 [==============================] - 1774s 15s/step - loss: 0.6047 - accuracy: 0.6711 - precison: 0.6710 - recall: 0.6710\n",
            "Epoch 2/5\n",
            "115/115 [==============================] - 1777s 15s/step - loss: 0.5173 - accuracy: 0.7549 - precison: 0.7611 - recall: 0.7427\n",
            "Epoch 3/5\n",
            "115/115 [==============================] - 1736s 15s/step - loss: 0.4734 - accuracy: 0.7986 - precison: 0.8002 - recall: 0.7958\n",
            "Epoch 4/5\n",
            "115/115 [==============================] - 1751s 15s/step - loss: 0.4356 - accuracy: 0.8150 - precison: 0.8178 - recall: 0.8106\n",
            "Epoch 5/5\n",
            "115/115 [==============================] - 1808s 16s/step - loss: 0.3938 - accuracy: 0.8534 - precison: 0.8499 - recall: 0.8582\n"
          ]
        },
        {
          "output_type": "execute_result",
          "data": {
            "text/plain": [
              "<keras.callbacks.History at 0x7feeced87910>"
            ]
          },
          "metadata": {},
          "execution_count": 97
        }
      ]
    },
    {
      "cell_type": "code",
      "source": [
        "model.evaluate(x_test, y_test)"
      ],
      "metadata": {
        "id": "8iscuT9AybrJ"
      },
      "execution_count": null,
      "outputs": []
    },
    {
      "cell_type": "code",
      "source": [
        "y_predicted = model.predict(X_test)\n",
        "y_predicted = y_predicted.flatten()"
      ],
      "metadata": {
        "id": "JXpctNpwyyw7"
      },
      "execution_count": null,
      "outputs": []
    },
    {
      "cell_type": "code",
      "source": [
        "import numpy as np\n",
        "\n",
        "y_predicted = np.where(y_predicted > 0.1, 1,0)\n",
        "y_predicted"
      ],
      "metadata": {
        "id": "ksjccMcty_R2"
      },
      "execution_count": null,
      "outputs": []
    },
    {
      "cell_type": "code",
      "source": [
        "from skelarn.metrics import confusion_matrix, classification_report\n",
        "\n",
        "cm = confusion_matrix(x_test, y_predicted)"
      ],
      "metadata": {
        "id": "LsEk2l5IzL9R"
      },
      "execution_count": null,
      "outputs": []
    },
    {
      "cell_type": "code",
      "source": [
        "print(classification_report(y_test, y_predicted))"
      ],
      "metadata": {
        "id": "goQTLZZWze-e"
      },
      "execution_count": null,
      "outputs": []
    },
    {
      "cell_type": "code",
      "source": [
        "reviews = [\n",
        "           'Enter into a new page and fine 31 mar as outdated',\n",
        "           'join this community to find work place',\n",
        "           'why not are you looking for a job'\n",
        "]\n",
        "model.predict(reviews)"
      ],
      "metadata": {
        "id": "48pWdhXSzswl"
      },
      "execution_count": null,
      "outputs": []
    }
  ]
}